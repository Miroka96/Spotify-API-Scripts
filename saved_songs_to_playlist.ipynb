{
 "cells": [
  {
   "cell_type": "markdown",
   "metadata": {},
   "source": [
    "# Store all saved Spotify Songs into a Playlist"
   ]
  },
  {
   "cell_type": "code",
   "execution_count": 1,
   "metadata": {},
   "outputs": [],
   "source": [
    "import spotipy\n",
    "from spotipy.oauth2 import SpotifyClientCredentials\n",
    "from spotipy.oauth2 import SpotifyOAuth"
   ]
  },
  {
   "cell_type": "code",
   "execution_count": 2,
   "metadata": {},
   "outputs": [],
   "source": [
    "import pandas as pd"
   ]
  },
  {
   "cell_type": "code",
   "execution_count": 3,
   "metadata": {},
   "outputs": [],
   "source": [
    "pd.set_option('display.max_colwidth', None)"
   ]
  },
  {
   "cell_type": "code",
   "execution_count": 4,
   "metadata": {},
   "outputs": [],
   "source": [
    "from getpass import getpass"
   ]
  },
  {
   "cell_type": "code",
   "execution_count": 5,
   "metadata": {},
   "outputs": [],
   "source": [
    "import datetime"
   ]
  },
  {
   "cell_type": "markdown",
   "metadata": {},
   "source": [
    "Create a Spotify app at [Spotify's Developer Page](https://developer.spotify.com/dashboard/) and setup your app. Especially, whitelist the redirect-URL below.\n",
    "\n",
    "Then, enter your own client ID and client secret.\n",
    "\n",
    "If the redirect URL is port 8080 on localhost, you don't even have to copy-paste the redirect URL."
   ]
  },
  {
   "cell_type": "code",
   "execution_count": 6,
   "metadata": {},
   "outputs": [
    {
     "name": "stdout",
     "output_type": "stream",
     "text": [
      "········\n"
     ]
    }
   ],
   "source": [
    "# Mirko's Test App\n",
    "APP_CLIENT_ID = \"1cae0549a06b47e9ab69ae5d6b9b8d9e\"\n",
    "APP_CLIENT_SECRET = getpass()\n",
    "REDIRECT_URL = \"http://localhost:8080\"\n",
    "REQUEST_LIMIT=50"
   ]
  },
  {
   "cell_type": "markdown",
   "metadata": {},
   "source": [
    "## Documentation\n",
    "\n",
    "[Spotipy Github Repo](https://github.com/plamere/spotipy)\n",
    "\n",
    "[Spotipy Documentation](https://spotipy.readthedocs.io/en/latest/)\n",
    "\n",
    "[Authorization Scopes](https://developer.spotify.com/documentation/general/guides/scopes/)"
   ]
  },
  {
   "cell_type": "code",
   "execution_count": 7,
   "metadata": {},
   "outputs": [],
   "source": [
    "sp = spotipy.Spotify(auth_manager=SpotifyOAuth(client_id=APP_CLIENT_ID,\n",
    "                                               client_secret=APP_CLIENT_SECRET,\n",
    "                                               redirect_uri=REDIRECT_URL,\n",
    "                                               scope=\"user-library-read playlist-modify-private playlist-modify-public\"))"
   ]
  },
  {
   "cell_type": "code",
   "execution_count": 8,
   "metadata": {},
   "outputs": [
    {
     "data": {
      "text/plain": [
       "{'display_name': 'mirkokrause.krause',\n",
       " 'external_urls': {'spotify': 'https://open.spotify.com/user/mirkokrause.krause'},\n",
       " 'followers': {'href': None, 'total': 21},\n",
       " 'href': 'https://api.spotify.com/v1/users/mirkokrause.krause',\n",
       " 'id': 'mirkokrause.krause',\n",
       " 'images': [],\n",
       " 'type': 'user',\n",
       " 'uri': 'spotify:user:mirkokrause.krause'}"
      ]
     },
     "execution_count": 8,
     "metadata": {},
     "output_type": "execute_result"
    }
   ],
   "source": [
    "user = sp.current_user()\n",
    "user"
   ]
  },
  {
   "cell_type": "code",
   "execution_count": 9,
   "metadata": {},
   "outputs": [],
   "source": [
    "def get_saved_tracks(limit=REQUEST_LIMIT):\n",
    "    saved_tracks = []\n",
    "    offset = 0\n",
    "    while True:\n",
    "        tracks = pd.DataFrame(sp.current_user_saved_tracks(limit=limit, offset=offset))\n",
    "        if len(tracks) > 0:\n",
    "            saved_tracks.append(tracks)\n",
    "            print(\"got song %d to %d\" % (offset + 1, offset + limit))\n",
    "            offset += limit\n",
    "        else:\n",
    "            saved_tracks = pd.concat(saved_tracks).reset_index(drop=True)\n",
    "            break\n",
    "    saved_tracks = saved_tracks['items'].apply(pd.Series)['track'].apply(pd.Series)\n",
    "    saved_tracks = saved_tracks.set_index('id')\n",
    "    print(\"got %d saved songs\" % len(saved_tracks))\n",
    "    return saved_tracks"
   ]
  },
  {
   "cell_type": "code",
   "execution_count": 10,
   "metadata": {},
   "outputs": [
    {
     "name": "stdout",
     "output_type": "stream",
     "text": [
      "got song 1 to 50\n",
      "got song 51 to 100\n",
      "got song 101 to 150\n",
      "got song 151 to 200\n",
      "got song 201 to 250\n",
      "got song 251 to 300\n",
      "got song 301 to 350\n",
      "got song 351 to 400\n",
      "got song 401 to 450\n",
      "got song 451 to 500\n",
      "got song 501 to 550\n",
      "got song 551 to 600\n",
      "got song 601 to 650\n",
      "got song 651 to 700\n",
      "got song 701 to 750\n",
      "got song 751 to 800\n",
      "got song 801 to 850\n",
      "got song 851 to 900\n",
      "got song 901 to 950\n",
      "got song 951 to 1000\n",
      "got song 1001 to 1050\n",
      "got song 1051 to 1100\n",
      "got song 1101 to 1150\n",
      "got song 1151 to 1200\n",
      "got song 1201 to 1250\n",
      "got song 1251 to 1300\n",
      "got song 1301 to 1350\n",
      "got song 1351 to 1400\n",
      "got song 1401 to 1450\n",
      "got song 1451 to 1500\n",
      "got song 1501 to 1550\n",
      "got song 1551 to 1600\n",
      "got song 1601 to 1650\n",
      "got song 1651 to 1700\n",
      "got song 1701 to 1750\n",
      "got song 1751 to 1800\n",
      "got song 1801 to 1850\n",
      "got song 1851 to 1900\n",
      "got song 1901 to 1950\n",
      "got song 1951 to 2000\n",
      "got song 2001 to 2050\n",
      "got song 2051 to 2100\n",
      "got song 2101 to 2150\n",
      "got 2122 saved songs\n"
     ]
    },
    {
     "data": {
      "text/html": [
       "<div>\n",
       "<style scoped>\n",
       "    .dataframe tbody tr th:only-of-type {\n",
       "        vertical-align: middle;\n",
       "    }\n",
       "\n",
       "    .dataframe tbody tr th {\n",
       "        vertical-align: top;\n",
       "    }\n",
       "\n",
       "    .dataframe thead th {\n",
       "        text-align: right;\n",
       "    }\n",
       "</style>\n",
       "<table border=\"1\" class=\"dataframe\">\n",
       "  <thead>\n",
       "    <tr style=\"text-align: right;\">\n",
       "      <th></th>\n",
       "      <th>album</th>\n",
       "      <th>artists</th>\n",
       "      <th>available_markets</th>\n",
       "      <th>disc_number</th>\n",
       "      <th>duration_ms</th>\n",
       "      <th>explicit</th>\n",
       "      <th>external_ids</th>\n",
       "      <th>external_urls</th>\n",
       "      <th>href</th>\n",
       "      <th>is_local</th>\n",
       "      <th>name</th>\n",
       "      <th>popularity</th>\n",
       "      <th>preview_url</th>\n",
       "      <th>track_number</th>\n",
       "      <th>type</th>\n",
       "      <th>uri</th>\n",
       "    </tr>\n",
       "    <tr>\n",
       "      <th>id</th>\n",
       "      <th></th>\n",
       "      <th></th>\n",
       "      <th></th>\n",
       "      <th></th>\n",
       "      <th></th>\n",
       "      <th></th>\n",
       "      <th></th>\n",
       "      <th></th>\n",
       "      <th></th>\n",
       "      <th></th>\n",
       "      <th></th>\n",
       "      <th></th>\n",
       "      <th></th>\n",
       "      <th></th>\n",
       "      <th></th>\n",
       "      <th></th>\n",
       "    </tr>\n",
       "  </thead>\n",
       "  <tbody>\n",
       "  </tbody>\n",
       "</table>\n",
       "</div>"
      ],
      "text/plain": [
       "Empty DataFrame\n",
       "Columns: [album, artists, available_markets, disc_number, duration_ms, explicit, external_ids, external_urls, href, is_local, name, popularity, preview_url, track_number, type, uri]\n",
       "Index: []"
      ]
     },
     "execution_count": 10,
     "metadata": {},
     "output_type": "execute_result"
    }
   ],
   "source": [
    "saved_tracks = get_saved_tracks()\n",
    "saved_tracks.head(0)"
   ]
  },
  {
   "cell_type": "code",
   "execution_count": 11,
   "metadata": {},
   "outputs": [],
   "source": [
    "def get_saved_track_artists(saved_tracks):\n",
    "    saved_track_artists = saved_tracks.explode('artists')['artists'].apply(pd.Series)\n",
    "    return saved_track_artists"
   ]
  },
  {
   "cell_type": "code",
   "execution_count": 12,
   "metadata": {},
   "outputs": [
    {
     "data": {
      "text/html": [
       "<div>\n",
       "<style scoped>\n",
       "    .dataframe tbody tr th:only-of-type {\n",
       "        vertical-align: middle;\n",
       "    }\n",
       "\n",
       "    .dataframe tbody tr th {\n",
       "        vertical-align: top;\n",
       "    }\n",
       "\n",
       "    .dataframe thead th {\n",
       "        text-align: right;\n",
       "    }\n",
       "</style>\n",
       "<table border=\"1\" class=\"dataframe\">\n",
       "  <thead>\n",
       "    <tr style=\"text-align: right;\">\n",
       "      <th></th>\n",
       "      <th>external_urls</th>\n",
       "      <th>href</th>\n",
       "      <th>id</th>\n",
       "      <th>name</th>\n",
       "      <th>type</th>\n",
       "      <th>uri</th>\n",
       "    </tr>\n",
       "    <tr>\n",
       "      <th>id</th>\n",
       "      <th></th>\n",
       "      <th></th>\n",
       "      <th></th>\n",
       "      <th></th>\n",
       "      <th></th>\n",
       "      <th></th>\n",
       "    </tr>\n",
       "  </thead>\n",
       "  <tbody>\n",
       "  </tbody>\n",
       "</table>\n",
       "</div>"
      ],
      "text/plain": [
       "Empty DataFrame\n",
       "Columns: [external_urls, href, id, name, type, uri]\n",
       "Index: []"
      ]
     },
     "execution_count": 12,
     "metadata": {},
     "output_type": "execute_result"
    }
   ],
   "source": [
    "saved_track_artists = get_saved_track_artists(saved_tracks)\n",
    "saved_track_artists.head(0)"
   ]
  },
  {
   "cell_type": "code",
   "execution_count": 13,
   "metadata": {},
   "outputs": [],
   "source": [
    "def get_playlists(limit=REQUEST_LIMIT):\n",
    "    playlists = []\n",
    "    offset=0\n",
    "    while True:\n",
    "        p = pd.DataFrame(sp.current_user_playlists(limit=limit, offset=offset))\n",
    "        if len(p) > 0:\n",
    "            playlists.append(p)\n",
    "            print(\"got playlists %d to %d\" % (offset + 1, offset + limit))\n",
    "            offset += limit\n",
    "        else:\n",
    "            playlists = pd.concat(playlists).reset_index(drop=True)\n",
    "            break\n",
    "    playlists = playlists['items'].apply(pd.Series).set_index('id')\n",
    "    print(\"got %d playlists\" % len(playlists))\n",
    "    return playlists"
   ]
  },
  {
   "cell_type": "code",
   "execution_count": 14,
   "metadata": {},
   "outputs": [
    {
     "name": "stdout",
     "output_type": "stream",
     "text": [
      "got playlists 1 to 50\n",
      "got playlists 51 to 100\n",
      "got 52 playlists\n"
     ]
    },
    {
     "data": {
      "text/html": [
       "<div>\n",
       "<style scoped>\n",
       "    .dataframe tbody tr th:only-of-type {\n",
       "        vertical-align: middle;\n",
       "    }\n",
       "\n",
       "    .dataframe tbody tr th {\n",
       "        vertical-align: top;\n",
       "    }\n",
       "\n",
       "    .dataframe thead th {\n",
       "        text-align: right;\n",
       "    }\n",
       "</style>\n",
       "<table border=\"1\" class=\"dataframe\">\n",
       "  <thead>\n",
       "    <tr style=\"text-align: right;\">\n",
       "      <th></th>\n",
       "      <th>collaborative</th>\n",
       "      <th>description</th>\n",
       "      <th>external_urls</th>\n",
       "      <th>href</th>\n",
       "      <th>images</th>\n",
       "      <th>name</th>\n",
       "      <th>owner</th>\n",
       "      <th>primary_color</th>\n",
       "      <th>public</th>\n",
       "      <th>snapshot_id</th>\n",
       "      <th>tracks</th>\n",
       "      <th>type</th>\n",
       "      <th>uri</th>\n",
       "    </tr>\n",
       "    <tr>\n",
       "      <th>id</th>\n",
       "      <th></th>\n",
       "      <th></th>\n",
       "      <th></th>\n",
       "      <th></th>\n",
       "      <th></th>\n",
       "      <th></th>\n",
       "      <th></th>\n",
       "      <th></th>\n",
       "      <th></th>\n",
       "      <th></th>\n",
       "      <th></th>\n",
       "      <th></th>\n",
       "      <th></th>\n",
       "    </tr>\n",
       "  </thead>\n",
       "  <tbody>\n",
       "  </tbody>\n",
       "</table>\n",
       "</div>"
      ],
      "text/plain": [
       "Empty DataFrame\n",
       "Columns: [collaborative, description, external_urls, href, images, name, owner, primary_color, public, snapshot_id, tracks, type, uri]\n",
       "Index: []"
      ]
     },
     "execution_count": 14,
     "metadata": {},
     "output_type": "execute_result"
    }
   ],
   "source": [
    "playlists = get_playlists()\n",
    "playlists.head(0)"
   ]
  },
  {
   "cell_type": "code",
   "execution_count": 15,
   "metadata": {},
   "outputs": [],
   "source": [
    "def add_tracks_to_playlist(playlist_id: str, tracks: list, limit: int = REQUEST_LIMIT):\n",
    "    offset = 0\n",
    "    while True:\n",
    "        t = tracks[offset:offset + limit]\n",
    "        if len(t) > 0:\n",
    "            sp.playlist_add_items(playlist_id=playlist_id, items=t)\n",
    "            print(\"added song items %d to %d to playlist %s\" % (offset + 1, offset + limit, playlist_id))\n",
    "            offset += limit\n",
    "        else:\n",
    "            break"
   ]
  },
  {
   "cell_type": "code",
   "execution_count": 16,
   "metadata": {},
   "outputs": [],
   "source": [
    "def backup_saved_songs(user_id=user['id'], playlist_name=None):\n",
    "    if playlist_name is None:\n",
    "        playlist_name = datetime.datetime.now().strftime('%g%m%d')\n",
    "    saved_tracks = get_saved_tracks()\n",
    "    new_playlist = sp.user_playlist_create(user=user['id'], name=playlist_name)\n",
    "    track_ids = list(saved_tracks.index)\n",
    "    playlist_id = new_playlist['id']\n",
    "    add_tracks_to_playlist(playlist_id=playlist_id, tracks=track_ids)\n",
    "    print(\"added %d songs to playlist \\\"%s\\\"\" % (len(track_ids), playlist_name))"
   ]
  },
  {
   "cell_type": "code",
   "execution_count": 17,
   "metadata": {},
   "outputs": [
    {
     "name": "stdout",
     "output_type": "stream",
     "text": [
      "got song 1 to 50\n",
      "got song 51 to 100\n",
      "got song 101 to 150\n",
      "got song 151 to 200\n",
      "got song 201 to 250\n",
      "got song 251 to 300\n",
      "got song 301 to 350\n",
      "got song 351 to 400\n",
      "got song 401 to 450\n",
      "got song 451 to 500\n",
      "got song 501 to 550\n",
      "got song 551 to 600\n",
      "got song 601 to 650\n",
      "got song 651 to 700\n",
      "got song 701 to 750\n",
      "got song 751 to 800\n",
      "got song 801 to 850\n",
      "got song 851 to 900\n",
      "got song 901 to 950\n",
      "got song 951 to 1000\n",
      "got song 1001 to 1050\n",
      "got song 1051 to 1100\n",
      "got song 1101 to 1150\n",
      "got song 1151 to 1200\n",
      "got song 1201 to 1250\n",
      "got song 1251 to 1300\n",
      "got song 1301 to 1350\n",
      "got song 1351 to 1400\n",
      "got song 1401 to 1450\n",
      "got song 1451 to 1500\n",
      "got song 1501 to 1550\n",
      "got song 1551 to 1600\n",
      "got song 1601 to 1650\n",
      "got song 1651 to 1700\n",
      "got song 1701 to 1750\n",
      "got song 1751 to 1800\n",
      "got song 1801 to 1850\n",
      "got song 1851 to 1900\n",
      "got song 1901 to 1950\n",
      "got song 1951 to 2000\n",
      "got song 2001 to 2050\n",
      "got song 2051 to 2100\n",
      "got song 2101 to 2150\n",
      "got 2122 saved songs\n",
      "added song items 1 to 50 to playlist 14VsdYlXq5X6R87GGBGSDp\n",
      "added song items 51 to 100 to playlist 14VsdYlXq5X6R87GGBGSDp\n",
      "added song items 101 to 150 to playlist 14VsdYlXq5X6R87GGBGSDp\n",
      "added song items 151 to 200 to playlist 14VsdYlXq5X6R87GGBGSDp\n",
      "added song items 201 to 250 to playlist 14VsdYlXq5X6R87GGBGSDp\n",
      "added song items 251 to 300 to playlist 14VsdYlXq5X6R87GGBGSDp\n",
      "added song items 301 to 350 to playlist 14VsdYlXq5X6R87GGBGSDp\n",
      "added song items 351 to 400 to playlist 14VsdYlXq5X6R87GGBGSDp\n",
      "added song items 401 to 450 to playlist 14VsdYlXq5X6R87GGBGSDp\n",
      "added song items 451 to 500 to playlist 14VsdYlXq5X6R87GGBGSDp\n",
      "added song items 501 to 550 to playlist 14VsdYlXq5X6R87GGBGSDp\n",
      "added song items 551 to 600 to playlist 14VsdYlXq5X6R87GGBGSDp\n",
      "added song items 601 to 650 to playlist 14VsdYlXq5X6R87GGBGSDp\n",
      "added song items 651 to 700 to playlist 14VsdYlXq5X6R87GGBGSDp\n",
      "added song items 701 to 750 to playlist 14VsdYlXq5X6R87GGBGSDp\n",
      "added song items 751 to 800 to playlist 14VsdYlXq5X6R87GGBGSDp\n",
      "added song items 801 to 850 to playlist 14VsdYlXq5X6R87GGBGSDp\n",
      "added song items 851 to 900 to playlist 14VsdYlXq5X6R87GGBGSDp\n",
      "added song items 901 to 950 to playlist 14VsdYlXq5X6R87GGBGSDp\n",
      "added song items 951 to 1000 to playlist 14VsdYlXq5X6R87GGBGSDp\n",
      "added song items 1001 to 1050 to playlist 14VsdYlXq5X6R87GGBGSDp\n",
      "added song items 1051 to 1100 to playlist 14VsdYlXq5X6R87GGBGSDp\n",
      "added song items 1101 to 1150 to playlist 14VsdYlXq5X6R87GGBGSDp\n",
      "added song items 1151 to 1200 to playlist 14VsdYlXq5X6R87GGBGSDp\n",
      "added song items 1201 to 1250 to playlist 14VsdYlXq5X6R87GGBGSDp\n",
      "added song items 1251 to 1300 to playlist 14VsdYlXq5X6R87GGBGSDp\n",
      "added song items 1301 to 1350 to playlist 14VsdYlXq5X6R87GGBGSDp\n",
      "added song items 1351 to 1400 to playlist 14VsdYlXq5X6R87GGBGSDp\n",
      "added song items 1401 to 1450 to playlist 14VsdYlXq5X6R87GGBGSDp\n",
      "added song items 1451 to 1500 to playlist 14VsdYlXq5X6R87GGBGSDp\n",
      "added song items 1501 to 1550 to playlist 14VsdYlXq5X6R87GGBGSDp\n",
      "added song items 1551 to 1600 to playlist 14VsdYlXq5X6R87GGBGSDp\n",
      "added song items 1601 to 1650 to playlist 14VsdYlXq5X6R87GGBGSDp\n",
      "added song items 1651 to 1700 to playlist 14VsdYlXq5X6R87GGBGSDp\n",
      "added song items 1701 to 1750 to playlist 14VsdYlXq5X6R87GGBGSDp\n",
      "added song items 1751 to 1800 to playlist 14VsdYlXq5X6R87GGBGSDp\n",
      "added song items 1801 to 1850 to playlist 14VsdYlXq5X6R87GGBGSDp\n",
      "added song items 1851 to 1900 to playlist 14VsdYlXq5X6R87GGBGSDp\n",
      "added song items 1901 to 1950 to playlist 14VsdYlXq5X6R87GGBGSDp\n",
      "added song items 1951 to 2000 to playlist 14VsdYlXq5X6R87GGBGSDp\n",
      "added song items 2001 to 2050 to playlist 14VsdYlXq5X6R87GGBGSDp\n",
      "added song items 2051 to 2100 to playlist 14VsdYlXq5X6R87GGBGSDp\n",
      "added song items 2101 to 2150 to playlist 14VsdYlXq5X6R87GGBGSDp\n",
      "added 2122 songs to playlist \"201113\"\n"
     ]
    }
   ],
   "source": [
    "backup_saved_songs()"
   ]
  }
 ],
 "metadata": {
  "kernelspec": {
   "display_name": "Python 3",
   "language": "python",
   "name": "python3"
  },
  "language_info": {
   "codemirror_mode": {
    "name": "ipython",
    "version": 3
   },
   "file_extension": ".py",
   "mimetype": "text/x-python",
   "name": "python",
   "nbconvert_exporter": "python",
   "pygments_lexer": "ipython3",
   "version": "3.8.5"
  }
 },
 "nbformat": 4,
 "nbformat_minor": 2
}
